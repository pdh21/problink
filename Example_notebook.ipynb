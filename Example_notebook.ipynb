{
 "cells": [
  {
   "cell_type": "markdown",
   "metadata": {},
   "source": [
    "# `problink` Example notebook\n",
    "This notebook provides an example of running the `problink` code on a mock data set."
   ]
  },
  {
   "cell_type": "markdown",
   "metadata": {},
   "source": [
    "### Define functions for Mock data set"
   ]
  },
  {
   "cell_type": "code",
   "execution_count": 1,
   "metadata": {
    "collapsed": true
   },
   "outputs": [],
   "source": [
    "import numpy as np\n",
    "import problink\n",
    "import problink.xidmod as xidmod\n",
    "import pylab as plt\n",
    "%matplotlib inline"
   ]
  },
  {
   "cell_type": "markdown",
   "metadata": {},
   "source": [
    "#### Age\n",
    "Looking at the [ECFSPR annual data report for 2015](https://www.ecfs.eu/sites/default/files/general-content-images/working-groups/ecfs-patient-registry/ECFSPR_Report2015_Nov2017.pdf), the distribution of ages can be approximated with a truncated exponential distribution, with a location of 0.0, scale of 20 and truncated at an age of 80."
   ]
  },
  {
   "cell_type": "code",
   "execution_count": 2,
   "metadata": {
    "collapsed": true
   },
   "outputs": [],
   "source": [
    "def generate_age(no):\n",
    "    from scipy.stats import truncexpon\n",
    "    loc=0\n",
    "    scale=20    \n",
    "    age_y1=truncexpon.rvs(4,loc=loc,scale=scale,size=no)\n",
    "    return age_y1,age_y1+1"
   ]
  },
  {
   "cell_type": "code",
   "execution_count": 3,
   "metadata": {},
   "outputs": [
    {
     "data": {
      "image/png": "[encoded data removed]",
      "text/plain": [
       "<matplotlib.figure.Figure at 0x118633650>"
      ]
     },
     "metadata": {},
     "output_type": "display_data"
    }
   ],
   "source": [
    "age_y1,age_y2=generate_age(10000)\n",
    "plt.hist(age_y1,normed=True,color='blue',alpha=0.5);\n",
    "plt.xlabel('Age');\n",
    "plt.ylabel('P.D.F.');"
   ]
  },
  {
   "cell_type": "markdown",
   "metadata": {},
   "source": [
    "#### Height\n",
    "For height, we can express the percentile each patient is on in regard to standard height curves.\n",
    "CF patients tend to be shorter due to malnutrition, so we move the distribution to be centered on the 40th percentile and truncate it at 0.0. We expect each patient's percentile to vary with each year, with a Gaussian distribution, with Sigma=2"
   ]
  },
  {
   "cell_type": "code",
   "execution_count": 4,
   "metadata": {
    "collapsed": true
   },
   "outputs": [],
   "source": [
    "def hgt_percentile(size):\n",
    "    from scipy.stats import truncnorm, norm\n",
    "    a, b = (5 - 40) / 34.0, (95 - 40.0) / 34.0\n",
    "    hgt_pc=truncnorm.rvs(a,b,loc=40,scale=34,size=size)\n",
    "    return hgt_pc, hgt_pc+norm.rvs(0,2,size=size)"
   ]
  },
  {
   "cell_type": "markdown",
   "metadata": {},
   "source": [
    "#### BMI\n",
    "For BMI, we can express the percentile each patient is on in regard to the BMI curves in Boelle et al. 2012.\n",
    "Percentiles are therefore distributed with the normal distribution. We expect each patient's percentile to vary with each year, with a Gaussian distribution, with Sigma=2."
   ]
  },
  {
   "cell_type": "code",
   "execution_count": 5,
   "metadata": {
    "collapsed": true
   },
   "outputs": [],
   "source": [
    "def bmi_percentile(size):\n",
    "    from scipy.stats import truncnorm, norm\n",
    "    a, b = (5 - 50) / 34.0, (95 - 50.0) / 34.0\n",
    "    bmi_pc=truncnorm.rvs(a,b,loc=50,scale=34,size=size)\n",
    "    return bmi_pc, bmi_pc+norm.rvs(0,2,size=size)"
   ]
  },
  {
   "cell_type": "markdown",
   "metadata": {},
   "source": [
    "#### Gender"
   ]
  },
  {
   "cell_type": "code",
   "execution_count": 6,
   "metadata": {
    "collapsed": true
   },
   "outputs": [],
   "source": [
    "def gender(size):\n",
    "    from scipy import stats\n",
    "    xk = np.arange(1,3)\n",
    "    pk = (0.5,0.5)\n",
    "    custm = stats.rv_discrete(name='custm', values=(xk, pk))\n",
    "    gend=custm.rvs(size=size)\n",
    "    return gend"
   ]
  },
  {
   "cell_type": "markdown",
   "metadata": {},
   "source": [
    "#### Mutation\n",
    "We treat CF mutations in 6 classes: 'df508 df508', 'df508 other', 'df508 unknown', 'other other', 'other unknown', 'unknown unknown', with probabilities of each determined by ECFSPR reports. For the mock data, we will base the probabilities of each class from a 2008 snapshot of the ECFSPR containing numerous countries."
   ]
  },
  {
   "cell_type": "code",
   "execution_count": 7,
   "metadata": {
    "collapsed": true
   },
   "outputs": [],
   "source": [
    "def mutation(size):\n",
    "    import problink\n",
    "    import problink.xidmod as xidmod\n",
    "    pk=xidmod.load_mut_pdf()\n",
    "    from scipy import stats\n",
    "    xk = np.arange(pk.size)\n",
    "    custm = stats.rv_discrete(name='custm', values=(xk, pk))\n",
    "    mut=custm.rvs(size=size)\n",
    "    lab= np.array([['[delta]F508', '[delta]F508'],['[delta]F508', 'other'],['[delta]F508', 'unknown'],['other','other'],['other', 'unknown'],['unknown','unknown']])\n",
    "    return lab[mut,:]"
   ]
  },
  {
   "cell_type": "markdown",
   "metadata": {},
   "source": [
    "#### Age at Diagnosis"
   ]
  },
  {
   "cell_type": "code",
   "execution_count": 8,
   "metadata": {},
   "outputs": [],
   "source": [
    "def age_diag(size):\n",
    "    return np.full((size),-1)"
   ]
  },
  {
   "cell_type": "markdown",
   "metadata": {},
   "source": [
    "### Generate Mock dataset"
   ]
  },
  {
   "cell_type": "code",
   "execution_count": 23,
   "metadata": {},
   "outputs": [],
   "source": [
    "no=1000\n",
    "age_y1,age_y2=generate_age(no)\n",
    "hgt_y1,hgt_y2=hgt_percentile(no)\n",
    "bmi_y1,bmi_y2=bmi_percentile(no)\n",
    "sex=gender(no)\n",
    "geno=mutation(no)\n",
    "status=np.full((no),0.0)\n",
    "age_dia=age_diag(no)\n",
    "for i in range(0,no):\n",
    "    xidmod.BMI_model_curve(bmi_y1[i],[age_y1[i]],sex[i])[0]\n",
    "    bmi_y1[i]=xidmod.BMI_model_curve(bmi_y1[i],[age_y1[i]],sex[i])[0]\n",
    "    bmi_y2[i]=xidmod.BMI_model_curve(bmi_y2[i],[age_y2[i]],sex[i])[0]\n",
    "    hgt_y1[i]=xidmod.hgt_model(hgt_y1[i],[age_y1[i]],sex[i])[0]\n",
    "    hgt_y2[i]=xidmod.hgt_model(hgt_y2[i],[age_y2[i]],sex[i])[0]\n",
    "dob_j=np.empty((no),dtype=long)\n",
    "for i in range(0,no):\n",
    "    dob_j[i]=np.int(((2016-np.floor(age_y1[i])-1900)*12)+np.ceil((age_y1[i]-np.floor(age_y1[i]))*12))"
   ]
  },
  {
   "cell_type": "code",
   "execution_count": 46,
   "metadata": {},
   "outputs": [],
   "source": [
    "ind=(age_y1<10) & (age_y1>5)"
   ]
  },
  {
   "cell_type": "markdown",
   "metadata": {},
   "source": [
    "#### Give data to problink data class"
   ]
  },
  {
   "cell_type": "code",
   "execution_count": 51,
   "metadata": {},
   "outputs": [],
   "source": [
    "data_y1=problink.data(bmi_y1[ind], hgt_y1[ind], np.arange(0,no)[ind], dob_j[ind],sex[ind],geno.T[:,ind], age_dia[ind],status[ind],2016)\n",
    "data_y2=problink.data(bmi_y2[ind], hgt_y2[ind], np.arange(0,no)[ind], dob_j[ind],sex[ind],geno.T[:,ind], age_dia[ind],status[ind],2017)"
   ]
  },
  {
   "cell_type": "code",
   "execution_count": 50,
   "metadata": {},
   "outputs": [
    {
     "data": {
      "text/plain": [
       "192"
      ]
     },
     "execution_count": 50,
     "metadata": {},
     "output_type": "execute_result"
    }
   ],
   "source": [
    "ind.sum()"
   ]
  },
  {
   "cell_type": "markdown",
   "metadata": {},
   "source": [
    "#### Generate prior information and run probabilisitic linkage"
   ]
  },
  {
   "cell_type": "code",
   "execution_count": 52,
   "metadata": {},
   "outputs": [
    {
     "name": "stdout",
     "output_type": "stream",
     "text": [
      "[ ==========================================================  ] 98.31%"
     ]
    }
   ],
   "source": [
    "prior=problink.prior()\n",
    "results=problink.link(prior,data_y1,data_y2)"
   ]
  },
  {
   "cell_type": "markdown",
   "metadata": {},
   "source": [
    "The output from `problink.prior` is an array, size (8, number of made links). It contains the log Bayes factor for each variable, the probability of match and the IDs of the linked patients:\n",
    "\n",
    "| $\\ln B_{gender}$ | $\\ln B_{BMI}$ | $\\ln B_{height}$ | $\\ln B_{age}$ | $\\ln B_{geno}$ | Probability of match. | ID1 | ID2 |\n",
    "| --- | --- | --- |--- | --- | --- |--- | --- |\n",
    "\n"
   ]
  },
  {
   "cell_type": "code",
   "execution_count": null,
   "metadata": {
    "collapsed": true
   },
   "outputs": [],
   "source": []
  }
 ],
 "metadata": {
  "kernelspec": {
   "display_name": "Python 2",
   "language": "python",
   "name": "python2"
  },
  "language_info": {
   "codemirror_mode": {
    "name": "ipython",
    "version": 2
   },
   "file_extension": ".py",
   "mimetype": "text/x-python",
   "name": "python",
   "nbconvert_exporter": "python",
   "pygments_lexer": "ipython2",
   "version": "2.7.13"
  }
 },
 "nbformat": 4,
 "nbformat_minor": 2
}
